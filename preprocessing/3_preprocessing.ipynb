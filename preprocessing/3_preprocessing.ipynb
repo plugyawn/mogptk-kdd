{
 "cells": [
  {
   "cell_type": "code",
   "execution_count": 2,
   "id": "c344ff41",
   "metadata": {},
   "outputs": [],
   "source": [
    "import pandas as pd\n",
    "import numpy as np\n",
    "import matplotlib.pyplot as plt\n",
    "import warnings\n",
    "warnings.filterwarnings('ignore')"
   ]
  },
  {
   "cell_type": "code",
   "execution_count": 3,
   "id": "5153331c",
   "metadata": {},
   "outputs": [
    {
     "data": {
      "text/html": [
       "<div>\n",
       "<style scoped>\n",
       "    .dataframe tbody tr th:only-of-type {\n",
       "        vertical-align: middle;\n",
       "    }\n",
       "\n",
       "    .dataframe tbody tr th {\n",
       "        vertical-align: top;\n",
       "    }\n",
       "\n",
       "    .dataframe thead th {\n",
       "        text-align: right;\n",
       "    }\n",
       "</style>\n",
       "<table border=\"1\" class=\"dataframe\">\n",
       "  <thead>\n",
       "    <tr style=\"text-align: right;\">\n",
       "      <th></th>\n",
       "      <th>time</th>\n",
       "      <th>station_id</th>\n",
       "      <th>longitude</th>\n",
       "      <th>latitude</th>\n",
       "      <th>PM25_Concentration</th>\n",
       "      <th>PM10_Concentration</th>\n",
       "      <th>NO2_Concentration</th>\n",
       "      <th>CO_Concentration</th>\n",
       "      <th>O3_Concentration</th>\n",
       "      <th>SO2_Concentration</th>\n",
       "      <th>weather</th>\n",
       "      <th>temperature</th>\n",
       "      <th>pressure</th>\n",
       "      <th>humidity</th>\n",
       "      <th>wind_speed</th>\n",
       "      <th>wind_direction</th>\n",
       "    </tr>\n",
       "  </thead>\n",
       "  <tbody>\n",
       "    <tr>\n",
       "      <th>0</th>\n",
       "      <td>2014-05-01 00:00:00</td>\n",
       "      <td>1001</td>\n",
       "      <td>116.173553</td>\n",
       "      <td>40.090679</td>\n",
       "      <td>138.0</td>\n",
       "      <td>159.4</td>\n",
       "      <td>56.3</td>\n",
       "      <td>0.9</td>\n",
       "      <td>50.8</td>\n",
       "      <td>17.2</td>\n",
       "      <td>0.0</td>\n",
       "      <td>20.0</td>\n",
       "      <td>1004.0</td>\n",
       "      <td>56.0</td>\n",
       "      <td>7.92</td>\n",
       "      <td>13.0</td>\n",
       "    </tr>\n",
       "    <tr>\n",
       "      <th>1</th>\n",
       "      <td>2014-05-01 00:00:00</td>\n",
       "      <td>1002</td>\n",
       "      <td>116.205310</td>\n",
       "      <td>40.003950</td>\n",
       "      <td>89.0</td>\n",
       "      <td>132.9</td>\n",
       "      <td>30.5</td>\n",
       "      <td>0.8</td>\n",
       "      <td>96.5</td>\n",
       "      <td>7.6</td>\n",
       "      <td>0.0</td>\n",
       "      <td>20.0</td>\n",
       "      <td>1004.0</td>\n",
       "      <td>56.0</td>\n",
       "      <td>7.92</td>\n",
       "      <td>13.0</td>\n",
       "    </tr>\n",
       "  </tbody>\n",
       "</table>\n",
       "</div>"
      ],
      "text/plain": [
       "                  time  station_id   longitude   latitude  PM25_Concentration  \\\n",
       "0  2014-05-01 00:00:00        1001  116.173553  40.090679               138.0   \n",
       "1  2014-05-01 00:00:00        1002  116.205310  40.003950                89.0   \n",
       "\n",
       "   PM10_Concentration  NO2_Concentration  CO_Concentration  O3_Concentration  \\\n",
       "0               159.4               56.3               0.9              50.8   \n",
       "1               132.9               30.5               0.8              96.5   \n",
       "\n",
       "   SO2_Concentration  weather  temperature  pressure  humidity  wind_speed  \\\n",
       "0               17.2      0.0         20.0    1004.0      56.0        7.92   \n",
       "1                7.6      0.0         20.0    1004.0      56.0        7.92   \n",
       "\n",
       "   wind_direction  \n",
       "0            13.0  \n",
       "1            13.0  "
      ]
     },
     "execution_count": 3,
     "metadata": {},
     "output_type": "execute_result"
    }
   ],
   "source": [
    "beijing_aq_plus_met = pd.read_csv('tmp_beijing_aq_plus_met.csv.gz')\n",
    "beijing_aq_plus_met.head(2)"
   ]
  },
  {
   "cell_type": "markdown",
   "id": "0bea57f1",
   "metadata": {},
   "source": [
    "### Drop pressure because of too much missing data"
   ]
  },
  {
   "cell_type": "code",
   "execution_count": 4,
   "id": "9cde1df4",
   "metadata": {},
   "outputs": [
    {
     "data": {
      "text/html": [
       "<div>\n",
       "<style scoped>\n",
       "    .dataframe tbody tr th:only-of-type {\n",
       "        vertical-align: middle;\n",
       "    }\n",
       "\n",
       "    .dataframe tbody tr th {\n",
       "        vertical-align: top;\n",
       "    }\n",
       "\n",
       "    .dataframe thead th {\n",
       "        text-align: right;\n",
       "    }\n",
       "</style>\n",
       "<table border=\"1\" class=\"dataframe\">\n",
       "  <thead>\n",
       "    <tr style=\"text-align: right;\">\n",
       "      <th></th>\n",
       "      <th>time</th>\n",
       "      <th>station_id</th>\n",
       "      <th>longitude</th>\n",
       "      <th>latitude</th>\n",
       "      <th>PM25_Concentration</th>\n",
       "      <th>PM10_Concentration</th>\n",
       "      <th>NO2_Concentration</th>\n",
       "      <th>CO_Concentration</th>\n",
       "      <th>O3_Concentration</th>\n",
       "      <th>SO2_Concentration</th>\n",
       "      <th>temperature</th>\n",
       "      <th>humidity</th>\n",
       "      <th>wind_speed</th>\n",
       "    </tr>\n",
       "  </thead>\n",
       "  <tbody>\n",
       "    <tr>\n",
       "      <th>0</th>\n",
       "      <td>2014-05-01 00:00:00</td>\n",
       "      <td>1001</td>\n",
       "      <td>116.173553</td>\n",
       "      <td>40.090679</td>\n",
       "      <td>138.0</td>\n",
       "      <td>159.4</td>\n",
       "      <td>56.3</td>\n",
       "      <td>0.9</td>\n",
       "      <td>50.8</td>\n",
       "      <td>17.2</td>\n",
       "      <td>20.0</td>\n",
       "      <td>56.0</td>\n",
       "      <td>7.92</td>\n",
       "    </tr>\n",
       "    <tr>\n",
       "      <th>1</th>\n",
       "      <td>2014-05-01 00:00:00</td>\n",
       "      <td>1002</td>\n",
       "      <td>116.205310</td>\n",
       "      <td>40.003950</td>\n",
       "      <td>89.0</td>\n",
       "      <td>132.9</td>\n",
       "      <td>30.5</td>\n",
       "      <td>0.8</td>\n",
       "      <td>96.5</td>\n",
       "      <td>7.6</td>\n",
       "      <td>20.0</td>\n",
       "      <td>56.0</td>\n",
       "      <td>7.92</td>\n",
       "    </tr>\n",
       "  </tbody>\n",
       "</table>\n",
       "</div>"
      ],
      "text/plain": [
       "                  time  station_id   longitude   latitude  PM25_Concentration  \\\n",
       "0  2014-05-01 00:00:00        1001  116.173553  40.090679               138.0   \n",
       "1  2014-05-01 00:00:00        1002  116.205310  40.003950                89.0   \n",
       "\n",
       "   PM10_Concentration  NO2_Concentration  CO_Concentration  O3_Concentration  \\\n",
       "0               159.4               56.3               0.9              50.8   \n",
       "1               132.9               30.5               0.8              96.5   \n",
       "\n",
       "   SO2_Concentration  temperature  humidity  wind_speed  \n",
       "0               17.2         20.0      56.0        7.92  \n",
       "1                7.6         20.0      56.0        7.92  "
      ]
     },
     "execution_count": 4,
     "metadata": {},
     "output_type": "execute_result"
    }
   ],
   "source": [
    "beijing_aq_plus_met2 = beijing_aq_plus_met.drop(columns=['pressure','wind_direction', 'weather'])\n",
    "beijing_aq_plus_met2.head(2)"
   ]
  },
  {
   "cell_type": "markdown",
   "id": "dbc63b56",
   "metadata": {},
   "source": [
    "### Drop five stations with highest amount of missing data (update: not dropping for monthly data)"
   ]
  },
  {
   "cell_type": "code",
   "execution_count": 5,
   "id": "4dcc5126",
   "metadata": {},
   "outputs": [
    {
     "name": "stdout",
     "output_type": "stream",
     "text": [
      "1001 0.7998858447488585\n",
      "1002 0.7998858447488585\n",
      "1003 0.8480593607305936\n",
      "1004 0.8469178082191781\n",
      "1005 0.8614155251141552\n",
      "1006 0.7998858447488585\n",
      "1007 0.8204337899543379\n",
      "1008 0.7998858447488585\n",
      "1009 0.34178082191780823\n",
      "1010 0.8469178082191781\n",
      "1011 0.8469178082191781\n",
      "1012 0.8204337899543379\n",
      "1013 0.34178082191780823\n",
      "1014 0.8204337899543379\n",
      "1015 0.34178082191780823\n",
      "1016 0.8469178082191781\n",
      "1017 0.8634703196347032\n",
      "1018 0.8634703196347032\n",
      "1019 0.8410958904109589\n",
      "1020 0.34178082191780823\n",
      "1021 0.34178082191780823\n",
      "1022 0.8204337899543379\n",
      "1023 0.8389269406392694\n",
      "1024 0.8430365296803652\n",
      "1025 0.8638127853881279\n",
      "1026 0.8598173515981735\n",
      "1027 0.8289954337899543\n",
      "1028 0.8589041095890411\n",
      "1029 0.8539954337899544\n",
      "1030 0.8430365296803652\n",
      "1031 0.8539954337899544\n",
      "1032 0.8589041095890411\n",
      "1033 0.8598173515981735\n",
      "1034 0.8410958904109589\n",
      "1035 0.8634703196347032\n",
      "1036 0.8614155251141552\n"
     ]
    }
   ],
   "source": [
    "for station in beijing_aq_plus_met2.station_id.unique():\n",
    "    tmp_df = beijing_aq_plus_met2[beijing_aq_plus_met2.station_id==station]\n",
    "    print(station, tmp_df['temperature'].dropna().shape[0]/tmp_df['temperature'].shape[0])"
   ]
  },
  {
   "cell_type": "code",
   "execution_count": 9,
   "id": "aa12cfba",
   "metadata": {},
   "outputs": [
    {
     "data": {
      "text/plain": [
       "array([1001, 1002, 1003, ..., 1034, 1035, 1036])"
      ]
     },
     "execution_count": 9,
     "metadata": {},
     "output_type": "execute_result"
    }
   ],
   "source": [
    "beijing_aq_plus_met2[\"station_id\"].values"
   ]
  },
  {
   "cell_type": "code",
   "execution_count": 14,
   "id": "c57f6113",
   "metadata": {},
   "outputs": [
    {
     "data": {
      "text/plain": [
       "<matplotlib.collections.PathCollection at 0x7fcd748c1060>"
      ]
     },
     "execution_count": 14,
     "metadata": {},
     "output_type": "execute_result"
    },
    {
     "data": {
      "image/png": "[encoded data removed]",
      "text/plain": [
       "<Figure size 640x480 with 1 Axes>"
      ]
     },
     "metadata": {},
     "output_type": "display_data"
    }
   ],
   "source": [
    "plt.figure()\n",
    "# for f_i in beijing_aq_plus_met2[\"station_id\"]:\n",
    "plt.scatter(beijing_aq_plus_met2[\"longitude\"], beijing_aq_plus_met2['latitude'])"
   ]
  },
  {
   "cell_type": "markdown",
   "id": "52498787",
   "metadata": {},
   "source": [
    "#### Missing data Station IDs: (1009, 1013, 1015, 1020, 1021)"
   ]
  },
  {
   "cell_type": "code",
   "execution_count": 10,
   "id": "76aeb345",
   "metadata": {},
   "outputs": [
    {
     "data": {
      "text/plain": [
       "((36,), (29,))"
      ]
     },
     "execution_count": 10,
     "metadata": {},
     "output_type": "execute_result"
    }
   ],
   "source": [
    "beijing_aq_plus_met3 = beijing_aq_plus_met2[~beijing_aq_plus_met2.station_id.isin([1001, 1009, 1013, 1015, 1020, 1021,1022])]\n",
    "beijing_aq_plus_met2.station_id.unique().shape, beijing_aq_plus_met3.station_id.unique().shape"
   ]
  },
  {
   "cell_type": "code",
   "execution_count": 11,
   "id": "60e5fca8",
   "metadata": {},
   "outputs": [
    {
     "data": {
      "text/html": [
       "<div>\n",
       "<style scoped>\n",
       "    .dataframe tbody tr th:only-of-type {\n",
       "        vertical-align: middle;\n",
       "    }\n",
       "\n",
       "    .dataframe tbody tr th {\n",
       "        vertical-align: top;\n",
       "    }\n",
       "\n",
       "    .dataframe thead th {\n",
       "        text-align: right;\n",
       "    }\n",
       "</style>\n",
       "<table border=\"1\" class=\"dataframe\">\n",
       "  <thead>\n",
       "    <tr style=\"text-align: right;\">\n",
       "      <th></th>\n",
       "      <th>time</th>\n",
       "      <th>station_id</th>\n",
       "      <th>longitude</th>\n",
       "      <th>latitude</th>\n",
       "      <th>PM25_Concentration</th>\n",
       "      <th>PM10_Concentration</th>\n",
       "      <th>NO2_Concentration</th>\n",
       "      <th>CO_Concentration</th>\n",
       "      <th>O3_Concentration</th>\n",
       "      <th>SO2_Concentration</th>\n",
       "      <th>temperature</th>\n",
       "      <th>humidity</th>\n",
       "      <th>wind_speed</th>\n",
       "    </tr>\n",
       "  </thead>\n",
       "  <tbody>\n",
       "    <tr>\n",
       "      <th>1</th>\n",
       "      <td>2014-05-01 00:00:00</td>\n",
       "      <td>1002</td>\n",
       "      <td>116.205310</td>\n",
       "      <td>40.003950</td>\n",
       "      <td>89.0</td>\n",
       "      <td>132.9</td>\n",
       "      <td>30.5</td>\n",
       "      <td>0.8</td>\n",
       "      <td>96.5</td>\n",
       "      <td>7.6</td>\n",
       "      <td>20.0</td>\n",
       "      <td>56.0</td>\n",
       "      <td>7.92</td>\n",
       "    </tr>\n",
       "    <tr>\n",
       "      <th>2</th>\n",
       "      <td>2014-05-01 00:00:00</td>\n",
       "      <td>1003</td>\n",
       "      <td>116.184239</td>\n",
       "      <td>39.914409</td>\n",
       "      <td>105.0</td>\n",
       "      <td>196.4</td>\n",
       "      <td>79.9</td>\n",
       "      <td>0.8</td>\n",
       "      <td>75.7</td>\n",
       "      <td>9.1</td>\n",
       "      <td>20.0</td>\n",
       "      <td>56.0</td>\n",
       "      <td>7.92</td>\n",
       "    </tr>\n",
       "  </tbody>\n",
       "</table>\n",
       "</div>"
      ],
      "text/plain": [
       "                  time  station_id   longitude   latitude  PM25_Concentration  \\\n",
       "1  2014-05-01 00:00:00        1002  116.205310  40.003950                89.0   \n",
       "2  2014-05-01 00:00:00        1003  116.184239  39.914409               105.0   \n",
       "\n",
       "   PM10_Concentration  NO2_Concentration  CO_Concentration  O3_Concentration  \\\n",
       "1               132.9               30.5               0.8              96.5   \n",
       "2               196.4               79.9               0.8              75.7   \n",
       "\n",
       "   SO2_Concentration  temperature  humidity  wind_speed  \n",
       "1                7.6         20.0      56.0        7.92  \n",
       "2                9.1         20.0      56.0        7.92  "
      ]
     },
     "execution_count": 11,
     "metadata": {},
     "output_type": "execute_result"
    }
   ],
   "source": [
    "beijing_aq_plus_met3.head(2)"
   ]
  },
  {
   "cell_type": "code",
   "execution_count": 12,
   "id": "6ddab06e",
   "metadata": {},
   "outputs": [
    {
     "name": "stdout",
     "output_type": "stream",
     "text": [
      "station_id 0.0\n",
      "longitude 0.0\n",
      "latitude 0.0\n",
      "PM25_Concentration 0.030000000000000027\n",
      "PM10_Concentration 0.14\n",
      "NO2_Concentration 0.06000000000000005\n",
      "CO_Concentration 0.030000000000000027\n",
      "O3_Concentration 0.030000000000000027\n",
      "SO2_Concentration 0.030000000000000027\n",
      "temperature 0.14\n",
      "humidity 0.13\n",
      "wind_speed 0.13\n"
     ]
    }
   ],
   "source": [
    "beijing_aq_plus_met3['time'] = pd.to_datetime(beijing_aq_plus_met3['time'])\n",
    "beijing_aq_plus_met3.set_index('time', inplace=True)\n",
    "colok = beijing_aq_plus_met3['2015-03-01':'2015-03-31']\n",
    "for col in colok.columns:\n",
    "    coldf = colok[col]\n",
    "    print(col, 1 - np.round(coldf.dropna().shape[0]/coldf.shape[0], 2))"
   ]
  },
  {
   "cell_type": "markdown",
   "id": "4c75f8c6",
   "metadata": {},
   "source": [
    "### "
   ]
  },
  {
   "cell_type": "code",
   "execution_count": 13,
   "id": "b1365ca0",
   "metadata": {},
   "outputs": [
    {
     "data": {
      "text/html": [
       "<div>\n",
       "<style scoped>\n",
       "    .dataframe tbody tr th:only-of-type {\n",
       "        vertical-align: middle;\n",
       "    }\n",
       "\n",
       "    .dataframe tbody tr th {\n",
       "        vertical-align: top;\n",
       "    }\n",
       "\n",
       "    .dataframe thead th {\n",
       "        text-align: right;\n",
       "    }\n",
       "</style>\n",
       "<table border=\"1\" class=\"dataframe\">\n",
       "  <thead>\n",
       "    <tr style=\"text-align: right;\">\n",
       "      <th></th>\n",
       "      <th>station_id</th>\n",
       "      <th>longitude</th>\n",
       "      <th>latitude</th>\n",
       "      <th>PM25_Concentration</th>\n",
       "      <th>PM10_Concentration</th>\n",
       "      <th>NO2_Concentration</th>\n",
       "      <th>CO_Concentration</th>\n",
       "      <th>O3_Concentration</th>\n",
       "      <th>SO2_Concentration</th>\n",
       "      <th>temperature</th>\n",
       "      <th>humidity</th>\n",
       "      <th>wind_speed</th>\n",
       "    </tr>\n",
       "    <tr>\n",
       "      <th>time</th>\n",
       "      <th></th>\n",
       "      <th></th>\n",
       "      <th></th>\n",
       "      <th></th>\n",
       "      <th></th>\n",
       "      <th></th>\n",
       "      <th></th>\n",
       "      <th></th>\n",
       "      <th></th>\n",
       "      <th></th>\n",
       "      <th></th>\n",
       "      <th></th>\n",
       "    </tr>\n",
       "  </thead>\n",
       "  <tbody>\n",
       "    <tr>\n",
       "      <th>2014-05-01</th>\n",
       "      <td>1002</td>\n",
       "      <td>116.205310</td>\n",
       "      <td>40.003950</td>\n",
       "      <td>89.0</td>\n",
       "      <td>132.9</td>\n",
       "      <td>30.5</td>\n",
       "      <td>0.8</td>\n",
       "      <td>96.5</td>\n",
       "      <td>7.6</td>\n",
       "      <td>20.0</td>\n",
       "      <td>56.0</td>\n",
       "      <td>7.92</td>\n",
       "    </tr>\n",
       "    <tr>\n",
       "      <th>2014-05-01</th>\n",
       "      <td>1003</td>\n",
       "      <td>116.184239</td>\n",
       "      <td>39.914409</td>\n",
       "      <td>105.0</td>\n",
       "      <td>196.4</td>\n",
       "      <td>79.9</td>\n",
       "      <td>0.8</td>\n",
       "      <td>75.7</td>\n",
       "      <td>9.1</td>\n",
       "      <td>20.0</td>\n",
       "      <td>56.0</td>\n",
       "      <td>7.92</td>\n",
       "    </tr>\n",
       "  </tbody>\n",
       "</table>\n",
       "</div>"
      ],
      "text/plain": [
       "            station_id   longitude   latitude  PM25_Concentration  \\\n",
       "time                                                                \n",
       "2014-05-01        1002  116.205310  40.003950                89.0   \n",
       "2014-05-01        1003  116.184239  39.914409               105.0   \n",
       "\n",
       "            PM10_Concentration  NO2_Concentration  CO_Concentration  \\\n",
       "time                                                                  \n",
       "2014-05-01               132.9               30.5               0.8   \n",
       "2014-05-01               196.4               79.9               0.8   \n",
       "\n",
       "            O3_Concentration  SO2_Concentration  temperature  humidity  \\\n",
       "time                                                                     \n",
       "2014-05-01              96.5                7.6         20.0      56.0   \n",
       "2014-05-01              75.7                9.1         20.0      56.0   \n",
       "\n",
       "            wind_speed  \n",
       "time                    \n",
       "2014-05-01        7.92  \n",
       "2014-05-01        7.92  "
      ]
     },
     "execution_count": 13,
     "metadata": {},
     "output_type": "execute_result"
    }
   ],
   "source": [
    "beijing_aq_plus_met3.head(2)"
   ]
  },
  {
   "cell_type": "code",
   "execution_count": 17,
   "id": "ed71e3fd",
   "metadata": {},
   "outputs": [],
   "source": [
    "beijing_aq_plus_met3.to_csv('tmp_beijing_aq_plus_met_preprocessed.csv.gz')"
   ]
  },
  {
   "cell_type": "code",
   "execution_count": null,
   "id": "ed504146",
   "metadata": {},
   "outputs": [],
   "source": []
  }
 ],
 "metadata": {
  "kernelspec": {
   "display_name": "mogp",
   "language": "python",
   "name": "python3"
  },
  "language_info": {
   "codemirror_mode": {
    "name": "ipython",
    "version": 3
   },
   "file_extension": ".py",
   "mimetype": "text/x-python",
   "name": "python",
   "nbconvert_exporter": "python",
   "pygments_lexer": "ipython3",
   "version": "3.10.8"
  },
  "vscode": {
   "interpreter": {
    "hash": "d7902e533ddfe5a55513f07114b33ace9a4130f4ff88b68b00e859cb11231fce"
   }
  }
 },
 "nbformat": 4,
 "nbformat_minor": 5
}
